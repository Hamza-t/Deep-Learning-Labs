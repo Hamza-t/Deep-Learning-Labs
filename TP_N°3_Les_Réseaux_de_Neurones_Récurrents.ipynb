{
  "nbformat": 4,
  "nbformat_minor": 0,
  "metadata": {
    "colab": {
      "provenance": [],
      "include_colab_link": true
    },
    "kernelspec": {
      "name": "python3",
      "display_name": "Python 3"
    },
    "language_info": {
      "name": "python"
    }
  },
  "cells": [
    {
      "cell_type": "markdown",
      "metadata": {
        "id": "view-in-github",
        "colab_type": "text"
      },
      "source": [
        "<a href=\"https://colab.research.google.com/github/Hamza-t/Deep-Learning-Labs/blob/main/TP_N%C2%B03_Les_R%C3%A9seaux_de_Neurones_R%C3%A9currents.ipynb\" target=\"_parent\"><img src=\"https://colab.research.google.com/assets/colab-badge.svg\" alt=\"Open In Colab\"/></a>"
      ]
    },
    {
      "cell_type": "markdown",
      "source": [
        "#TP N°3 : Les Réseaux de Neurones Récurrents\n",
        "\n",
        "---\n"
      ],
      "metadata": {
        "id": "MMasdtkcL1Bx"
      }
    },
    {
      "cell_type": "markdown",
      "source": [
        "**Objectif :**\n",
        "\n",
        "Ce TP a pour objectif d’appliquer trois types différents de réseaux de neurones profonds sur un\n",
        "ensemble de données du monde réel. Nous utiliserons le réseau de neurones à connexion dense\n",
        "(réseau de neurones de base), le réseau de neurones convolutionnel (CNN) et le réseau de\n",
        "mémoire à long court terme (LSTM), qui est une variante des réseaux de neurones récurrents.\n",
        "Nous allons utiliser Keras Embedding Layer et GloVe comme word embedding pour convertir\n",
        "le texte en forme numérique. "
      ],
      "metadata": {
        "id": "2EVNQZJJjabx"
      }
    },
    {
      "cell_type": "markdown",
      "source": [
        "##I/ Importation des bibliothèques :\n"
      ],
      "metadata": {
        "id": "SfNhugkPL6aU"
      }
    },
    {
      "cell_type": "code",
      "execution_count": null,
      "metadata": {
        "id": "MUkhbLuFLe08"
      },
      "outputs": [],
      "source": [
        "import pandas as pd\n",
        "import numpy as np\n",
        "import re\n",
        "import nltk\n",
        "from nltk.corpus import stopwords\n",
        "from numpy import array\n",
        "import matplotlib.pyplot as plt\n",
        "from keras.preprocessing.text import one_hot\n",
        "from keras.preprocessing.sequence import pad_sequences\n",
        "from keras.models import Sequential\n",
        "from keras.layers.core import Activation, Dropout, Dense\n",
        "from keras.layers import Flatten\n",
        "from keras.layers import Conv1D\n",
        "from keras.layers import GlobalMaxPooling1D\n",
        "from keras.layers import MaxPooling1D\n",
        "from keras.layers import Dense\n",
        "from keras.layers import LSTM\n",
        "from keras.layers import GRU\n",
        "from keras.layers.embeddings import Embedding\n",
        "from sklearn.model_selection import train_test_split\n",
        "from keras.preprocessing.text import Tokenizer"
      ]
    },
    {
      "cell_type": "markdown",
      "source": [
        "##II/ Importation du dataset :"
      ],
      "metadata": {
        "id": "LSAnwN3GL-6A"
      }
    },
    {
      "cell_type": "code",
      "source": [
        "url = 'IMDB Dataset.csv'\n",
        "movie_reviews = pd.read_csv(url)"
      ],
      "metadata": {
        "id": "ypNRsrmnO7fL"
      },
      "execution_count": null,
      "outputs": []
    },
    {
      "cell_type": "code",
      "source": [
        "movie_reviews"
      ],
      "metadata": {
        "id": "ozuApkc8T25k",
        "colab": {
          "base_uri": "https://localhost:8080/",
          "height": 424
        },
        "outputId": "66711317-5e03-46c5-9aec-f6d6269e5a85"
      },
      "execution_count": null,
      "outputs": [
        {
          "output_type": "execute_result",
          "data": {
            "text/plain": [
              "                                                  review sentiment\n",
              "0      One of the other reviewers has mentioned that ...  positive\n",
              "1      A wonderful little production. <br /><br />The...  positive\n",
              "2      I thought this was a wonderful way to spend ti...  positive\n",
              "3      Basically there's a family where a little boy ...  negative\n",
              "4      Petter Mattei's \"Love in the Time of Money\" is...  positive\n",
              "...                                                  ...       ...\n",
              "49995  I thought this movie did a down right good job...  positive\n",
              "49996  Bad plot, bad dialogue, bad acting, idiotic di...  negative\n",
              "49997  I am a Catholic taught in parochial elementary...  negative\n",
              "49998  I'm going to have to disagree with the previou...  negative\n",
              "49999  No one expects the Star Trek movies to be high...  negative\n",
              "\n",
              "[50000 rows x 2 columns]"
            ],
            "text/html": [
              "\n",
              "  <div id=\"df-1357f8a5-ac0e-4da5-aa4a-33effa72d69e\">\n",
              "    <div class=\"colab-df-container\">\n",
              "      <div>\n",
              "<style scoped>\n",
              "    .dataframe tbody tr th:only-of-type {\n",
              "        vertical-align: middle;\n",
              "    }\n",
              "\n",
              "    .dataframe tbody tr th {\n",
              "        vertical-align: top;\n",
              "    }\n",
              "\n",
              "    .dataframe thead th {\n",
              "        text-align: right;\n",
              "    }\n",
              "</style>\n",
              "<table border=\"1\" class=\"dataframe\">\n",
              "  <thead>\n",
              "    <tr style=\"text-align: right;\">\n",
              "      <th></th>\n",
              "      <th>review</th>\n",
              "      <th>sentiment</th>\n",
              "    </tr>\n",
              "  </thead>\n",
              "  <tbody>\n",
              "    <tr>\n",
              "      <th>0</th>\n",
              "      <td>One of the other reviewers has mentioned that ...</td>\n",
              "      <td>positive</td>\n",
              "    </tr>\n",
              "    <tr>\n",
              "      <th>1</th>\n",
              "      <td>A wonderful little production. &lt;br /&gt;&lt;br /&gt;The...</td>\n",
              "      <td>positive</td>\n",
              "    </tr>\n",
              "    <tr>\n",
              "      <th>2</th>\n",
              "      <td>I thought this was a wonderful way to spend ti...</td>\n",
              "      <td>positive</td>\n",
              "    </tr>\n",
              "    <tr>\n",
              "      <th>3</th>\n",
              "      <td>Basically there's a family where a little boy ...</td>\n",
              "      <td>negative</td>\n",
              "    </tr>\n",
              "    <tr>\n",
              "      <th>4</th>\n",
              "      <td>Petter Mattei's \"Love in the Time of Money\" is...</td>\n",
              "      <td>positive</td>\n",
              "    </tr>\n",
              "    <tr>\n",
              "      <th>...</th>\n",
              "      <td>...</td>\n",
              "      <td>...</td>\n",
              "    </tr>\n",
              "    <tr>\n",
              "      <th>49995</th>\n",
              "      <td>I thought this movie did a down right good job...</td>\n",
              "      <td>positive</td>\n",
              "    </tr>\n",
              "    <tr>\n",
              "      <th>49996</th>\n",
              "      <td>Bad plot, bad dialogue, bad acting, idiotic di...</td>\n",
              "      <td>negative</td>\n",
              "    </tr>\n",
              "    <tr>\n",
              "      <th>49997</th>\n",
              "      <td>I am a Catholic taught in parochial elementary...</td>\n",
              "      <td>negative</td>\n",
              "    </tr>\n",
              "    <tr>\n",
              "      <th>49998</th>\n",
              "      <td>I'm going to have to disagree with the previou...</td>\n",
              "      <td>negative</td>\n",
              "    </tr>\n",
              "    <tr>\n",
              "      <th>49999</th>\n",
              "      <td>No one expects the Star Trek movies to be high...</td>\n",
              "      <td>negative</td>\n",
              "    </tr>\n",
              "  </tbody>\n",
              "</table>\n",
              "<p>50000 rows × 2 columns</p>\n",
              "</div>\n",
              "      <button class=\"colab-df-convert\" onclick=\"convertToInteractive('df-1357f8a5-ac0e-4da5-aa4a-33effa72d69e')\"\n",
              "              title=\"Convert this dataframe to an interactive table.\"\n",
              "              style=\"display:none;\">\n",
              "        \n",
              "  <svg xmlns=\"http://www.w3.org/2000/svg\" height=\"24px\"viewBox=\"0 0 24 24\"\n",
              "       width=\"24px\">\n",
              "    <path d=\"M0 0h24v24H0V0z\" fill=\"none\"/>\n",
              "    <path d=\"M18.56 5.44l.94 2.06.94-2.06 2.06-.94-2.06-.94-.94-2.06-.94 2.06-2.06.94zm-11 1L8.5 8.5l.94-2.06 2.06-.94-2.06-.94L8.5 2.5l-.94 2.06-2.06.94zm10 10l.94 2.06.94-2.06 2.06-.94-2.06-.94-.94-2.06-.94 2.06-2.06.94z\"/><path d=\"M17.41 7.96l-1.37-1.37c-.4-.4-.92-.59-1.43-.59-.52 0-1.04.2-1.43.59L10.3 9.45l-7.72 7.72c-.78.78-.78 2.05 0 2.83L4 21.41c.39.39.9.59 1.41.59.51 0 1.02-.2 1.41-.59l7.78-7.78 2.81-2.81c.8-.78.8-2.07 0-2.86zM5.41 20L4 18.59l7.72-7.72 1.47 1.35L5.41 20z\"/>\n",
              "  </svg>\n",
              "      </button>\n",
              "      \n",
              "  <style>\n",
              "    .colab-df-container {\n",
              "      display:flex;\n",
              "      flex-wrap:wrap;\n",
              "      gap: 12px;\n",
              "    }\n",
              "\n",
              "    .colab-df-convert {\n",
              "      background-color: #E8F0FE;\n",
              "      border: none;\n",
              "      border-radius: 50%;\n",
              "      cursor: pointer;\n",
              "      display: none;\n",
              "      fill: #1967D2;\n",
              "      height: 32px;\n",
              "      padding: 0 0 0 0;\n",
              "      width: 32px;\n",
              "    }\n",
              "\n",
              "    .colab-df-convert:hover {\n",
              "      background-color: #E2EBFA;\n",
              "      box-shadow: 0px 1px 2px rgba(60, 64, 67, 0.3), 0px 1px 3px 1px rgba(60, 64, 67, 0.15);\n",
              "      fill: #174EA6;\n",
              "    }\n",
              "\n",
              "    [theme=dark] .colab-df-convert {\n",
              "      background-color: #3B4455;\n",
              "      fill: #D2E3FC;\n",
              "    }\n",
              "\n",
              "    [theme=dark] .colab-df-convert:hover {\n",
              "      background-color: #434B5C;\n",
              "      box-shadow: 0px 1px 3px 1px rgba(0, 0, 0, 0.15);\n",
              "      filter: drop-shadow(0px 1px 2px rgba(0, 0, 0, 0.3));\n",
              "      fill: #FFFFFF;\n",
              "    }\n",
              "  </style>\n",
              "\n",
              "      <script>\n",
              "        const buttonEl =\n",
              "          document.querySelector('#df-1357f8a5-ac0e-4da5-aa4a-33effa72d69e button.colab-df-convert');\n",
              "        buttonEl.style.display =\n",
              "          google.colab.kernel.accessAllowed ? 'block' : 'none';\n",
              "\n",
              "        async function convertToInteractive(key) {\n",
              "          const element = document.querySelector('#df-1357f8a5-ac0e-4da5-aa4a-33effa72d69e');\n",
              "          const dataTable =\n",
              "            await google.colab.kernel.invokeFunction('convertToInteractive',\n",
              "                                                     [key], {});\n",
              "          if (!dataTable) return;\n",
              "\n",
              "          const docLinkHtml = 'Like what you see? Visit the ' +\n",
              "            '<a target=\"_blank\" href=https://colab.research.google.com/notebooks/data_table.ipynb>data table notebook</a>'\n",
              "            + ' to learn more about interactive tables.';\n",
              "          element.innerHTML = '';\n",
              "          dataTable['output_type'] = 'display_data';\n",
              "          await google.colab.output.renderOutput(dataTable, element);\n",
              "          const docLink = document.createElement('div');\n",
              "          docLink.innerHTML = docLinkHtml;\n",
              "          element.appendChild(docLink);\n",
              "        }\n",
              "      </script>\n",
              "    </div>\n",
              "  </div>\n",
              "  "
            ]
          },
          "metadata": {},
          "execution_count": 3
        }
      ]
    },
    {
      "cell_type": "markdown",
      "source": [
        "Quelle est la dimention du dataset ? "
      ],
      "metadata": {
        "id": "ByZt7pYKfg6x"
      }
    },
    {
      "cell_type": "code",
      "source": [
        "movie_reviews.shape"
      ],
      "metadata": {
        "id": "Z9osPAUyPQWs",
        "colab": {
          "base_uri": "https://localhost:8080/"
        },
        "outputId": "13677bd4-25a6-4d9f-f91a-4a6221c741e9"
      },
      "execution_count": null,
      "outputs": [
        {
          "output_type": "execute_result",
          "data": {
            "text/plain": [
              "(50000, 2)"
            ]
          },
          "metadata": {},
          "execution_count": 4
        }
      ]
    },
    {
      "cell_type": "markdown",
      "source": [
        "Contient-il des valeurs NULL ? "
      ],
      "metadata": {
        "id": "d7RWfjRPflLV"
      }
    },
    {
      "cell_type": "code",
      "source": [
        "movie_reviews.isnull().values.any()"
      ],
      "metadata": {
        "id": "PqdLf7SxWgr7",
        "colab": {
          "base_uri": "https://localhost:8080/"
        },
        "outputId": "d9a17ed7-c3a1-497e-ec0e-1257ef33a2cd"
      },
      "execution_count": null,
      "outputs": [
        {
          "output_type": "execute_result",
          "data": {
            "text/plain": [
              "False"
            ]
          },
          "metadata": {},
          "execution_count": 5
        }
      ]
    },
    {
      "cell_type": "markdown",
      "source": [
        "Affichez les 5 premières lignes. "
      ],
      "metadata": {
        "id": "gnBo2XKbfomU"
      }
    },
    {
      "cell_type": "code",
      "source": [
        "movie_reviews.head(5)"
      ],
      "metadata": {
        "id": "PL2E354HVtuE",
        "colab": {
          "base_uri": "https://localhost:8080/",
          "height": 206
        },
        "outputId": "2a876398-4d99-4ad2-e177-aec9d5f4e2f0"
      },
      "execution_count": null,
      "outputs": [
        {
          "output_type": "execute_result",
          "data": {
            "text/plain": [
              "                                              review sentiment\n",
              "0  One of the other reviewers has mentioned that ...  positive\n",
              "1  A wonderful little production. <br /><br />The...  positive\n",
              "2  I thought this was a wonderful way to spend ti...  positive\n",
              "3  Basically there's a family where a little boy ...  negative\n",
              "4  Petter Mattei's \"Love in the Time of Money\" is...  positive"
            ],
            "text/html": [
              "\n",
              "  <div id=\"df-e97c6d3a-37ce-4080-b9d8-1e61a6ec3e06\">\n",
              "    <div class=\"colab-df-container\">\n",
              "      <div>\n",
              "<style scoped>\n",
              "    .dataframe tbody tr th:only-of-type {\n",
              "        vertical-align: middle;\n",
              "    }\n",
              "\n",
              "    .dataframe tbody tr th {\n",
              "        vertical-align: top;\n",
              "    }\n",
              "\n",
              "    .dataframe thead th {\n",
              "        text-align: right;\n",
              "    }\n",
              "</style>\n",
              "<table border=\"1\" class=\"dataframe\">\n",
              "  <thead>\n",
              "    <tr style=\"text-align: right;\">\n",
              "      <th></th>\n",
              "      <th>review</th>\n",
              "      <th>sentiment</th>\n",
              "    </tr>\n",
              "  </thead>\n",
              "  <tbody>\n",
              "    <tr>\n",
              "      <th>0</th>\n",
              "      <td>One of the other reviewers has mentioned that ...</td>\n",
              "      <td>positive</td>\n",
              "    </tr>\n",
              "    <tr>\n",
              "      <th>1</th>\n",
              "      <td>A wonderful little production. &lt;br /&gt;&lt;br /&gt;The...</td>\n",
              "      <td>positive</td>\n",
              "    </tr>\n",
              "    <tr>\n",
              "      <th>2</th>\n",
              "      <td>I thought this was a wonderful way to spend ti...</td>\n",
              "      <td>positive</td>\n",
              "    </tr>\n",
              "    <tr>\n",
              "      <th>3</th>\n",
              "      <td>Basically there's a family where a little boy ...</td>\n",
              "      <td>negative</td>\n",
              "    </tr>\n",
              "    <tr>\n",
              "      <th>4</th>\n",
              "      <td>Petter Mattei's \"Love in the Time of Money\" is...</td>\n",
              "      <td>positive</td>\n",
              "    </tr>\n",
              "  </tbody>\n",
              "</table>\n",
              "</div>\n",
              "      <button class=\"colab-df-convert\" onclick=\"convertToInteractive('df-e97c6d3a-37ce-4080-b9d8-1e61a6ec3e06')\"\n",
              "              title=\"Convert this dataframe to an interactive table.\"\n",
              "              style=\"display:none;\">\n",
              "        \n",
              "  <svg xmlns=\"http://www.w3.org/2000/svg\" height=\"24px\"viewBox=\"0 0 24 24\"\n",
              "       width=\"24px\">\n",
              "    <path d=\"M0 0h24v24H0V0z\" fill=\"none\"/>\n",
              "    <path d=\"M18.56 5.44l.94 2.06.94-2.06 2.06-.94-2.06-.94-.94-2.06-.94 2.06-2.06.94zm-11 1L8.5 8.5l.94-2.06 2.06-.94-2.06-.94L8.5 2.5l-.94 2.06-2.06.94zm10 10l.94 2.06.94-2.06 2.06-.94-2.06-.94-.94-2.06-.94 2.06-2.06.94z\"/><path d=\"M17.41 7.96l-1.37-1.37c-.4-.4-.92-.59-1.43-.59-.52 0-1.04.2-1.43.59L10.3 9.45l-7.72 7.72c-.78.78-.78 2.05 0 2.83L4 21.41c.39.39.9.59 1.41.59.51 0 1.02-.2 1.41-.59l7.78-7.78 2.81-2.81c.8-.78.8-2.07 0-2.86zM5.41 20L4 18.59l7.72-7.72 1.47 1.35L5.41 20z\"/>\n",
              "  </svg>\n",
              "      </button>\n",
              "      \n",
              "  <style>\n",
              "    .colab-df-container {\n",
              "      display:flex;\n",
              "      flex-wrap:wrap;\n",
              "      gap: 12px;\n",
              "    }\n",
              "\n",
              "    .colab-df-convert {\n",
              "      background-color: #E8F0FE;\n",
              "      border: none;\n",
              "      border-radius: 50%;\n",
              "      cursor: pointer;\n",
              "      display: none;\n",
              "      fill: #1967D2;\n",
              "      height: 32px;\n",
              "      padding: 0 0 0 0;\n",
              "      width: 32px;\n",
              "    }\n",
              "\n",
              "    .colab-df-convert:hover {\n",
              "      background-color: #E2EBFA;\n",
              "      box-shadow: 0px 1px 2px rgba(60, 64, 67, 0.3), 0px 1px 3px 1px rgba(60, 64, 67, 0.15);\n",
              "      fill: #174EA6;\n",
              "    }\n",
              "\n",
              "    [theme=dark] .colab-df-convert {\n",
              "      background-color: #3B4455;\n",
              "      fill: #D2E3FC;\n",
              "    }\n",
              "\n",
              "    [theme=dark] .colab-df-convert:hover {\n",
              "      background-color: #434B5C;\n",
              "      box-shadow: 0px 1px 3px 1px rgba(0, 0, 0, 0.15);\n",
              "      filter: drop-shadow(0px 1px 2px rgba(0, 0, 0, 0.3));\n",
              "      fill: #FFFFFF;\n",
              "    }\n",
              "  </style>\n",
              "\n",
              "      <script>\n",
              "        const buttonEl =\n",
              "          document.querySelector('#df-e97c6d3a-37ce-4080-b9d8-1e61a6ec3e06 button.colab-df-convert');\n",
              "        buttonEl.style.display =\n",
              "          google.colab.kernel.accessAllowed ? 'block' : 'none';\n",
              "\n",
              "        async function convertToInteractive(key) {\n",
              "          const element = document.querySelector('#df-e97c6d3a-37ce-4080-b9d8-1e61a6ec3e06');\n",
              "          const dataTable =\n",
              "            await google.colab.kernel.invokeFunction('convertToInteractive',\n",
              "                                                     [key], {});\n",
              "          if (!dataTable) return;\n",
              "\n",
              "          const docLinkHtml = 'Like what you see? Visit the ' +\n",
              "            '<a target=\"_blank\" href=https://colab.research.google.com/notebooks/data_table.ipynb>data table notebook</a>'\n",
              "            + ' to learn more about interactive tables.';\n",
              "          element.innerHTML = '';\n",
              "          dataTable['output_type'] = 'display_data';\n",
              "          await google.colab.output.renderOutput(dataTable, element);\n",
              "          const docLink = document.createElement('div');\n",
              "          docLink.innerHTML = docLinkHtml;\n",
              "          element.appendChild(docLink);\n",
              "        }\n",
              "      </script>\n",
              "    </div>\n",
              "  </div>\n",
              "  "
            ]
          },
          "metadata": {},
          "execution_count": 6
        }
      ]
    },
    {
      "cell_type": "markdown",
      "source": [
        "Utiliser la méthode countplot de la librairie seaborn pour voir si le dataset est équilibré ou non ?"
      ],
      "metadata": {
        "id": "EhpcgIT7fsBU"
      }
    },
    {
      "cell_type": "code",
      "source": [
        "import seaborn as sns\n",
        "sns.countplot(x= 'sentiment', data= movie_reviews)"
      ],
      "metadata": {
        "id": "bMsUm0swSUfw",
        "colab": {
          "base_uri": "https://localhost:8080/",
          "height": 296
        },
        "outputId": "302204c8-4589-4409-9244-3bf247da815d"
      },
      "execution_count": null,
      "outputs": [
        {
          "output_type": "execute_result",
          "data": {
            "text/plain": [
              "<matplotlib.axes._subplots.AxesSubplot at 0x7f0e37c97490>"
            ]
          },
          "metadata": {},
          "execution_count": 7
        },
        {
          "output_type": "display_data",
          "data": {
            "text/plain": [
              "<Figure size 432x288 with 1 Axes>"
            ],
            "image/png": "[encoded data removed]"
          },
          "metadata": {
            "needs_background": "light"
          }
        }
      ]
    },
    {
      "cell_type": "markdown",
      "source": [
        "Afficher le 4ème review"
      ],
      "metadata": {
        "id": "4e6MIyUef0fY"
      }
    },
    {
      "cell_type": "code",
      "source": [
        "review4 = movie_reviews.iloc[3, 0]\n",
        "review4"
      ],
      "metadata": {
        "id": "SQHfst7oW97n",
        "colab": {
          "base_uri": "https://localhost:8080/",
          "height": 140
        },
        "outputId": "1c4b4caa-3228-4dfd-f434-37670943d40c"
      },
      "execution_count": null,
      "outputs": [
        {
          "output_type": "execute_result",
          "data": {
            "text/plain": [
              "\"Basically there's a family where a little boy (Jake) thinks there's a zombie in his closet & his parents are fighting all the time.<br /><br />This movie is slower than a soap opera... and suddenly, Jake decides to become Rambo and kill the zombie.<br /><br />OK, first of all when you're going to make a film you must Decide if its a thriller or a drama! As a drama the movie is watchable. Parents are divorcing & arguing like in real life. And then we have Jake with his closet which totally ruins all the film! I expected to see a BOOGEYMAN similar movie, and instead i watched a drama with some meaningless thriller spots.<br /><br />3 out of 10 just for the well playing parents & descent dialogs. As for the shots with Jake: just ignore them.\""
            ],
            "application/vnd.google.colaboratory.intrinsic+json": {
              "type": "string"
            }
          },
          "metadata": {},
          "execution_count": 8
        }
      ]
    },
    {
      "cell_type": "markdown",
      "source": [
        "##III/ Prétraitement de données :"
      ],
      "metadata": {
        "id": "X9GboGhfTDYo"
      }
    },
    {
      "cell_type": "code",
      "source": [
        "def preprocess_text(sen):\n",
        " # Removing html tags\n",
        " sentence = remove_tags(sen)\n",
        " # Remove punctuations and numbers\n",
        " sentence = re.sub('[^a-zA-Z]', ' ', sentence)\n",
        " # Single character removal\n",
        " sentence = re.sub(r\"\\s+[a-zA-Z]\\s+\", ' ', sentence)\n",
        " # Removing multiple spaces\n",
        " sentence = re.sub(r'\\s+', ' ', sentence)\n",
        " return sentence\n",
        "TAG_RE = re.compile(r'<[^>]+>')\n",
        "def remove_tags(text):\n",
        " return TAG_RE.sub('', text)"
      ],
      "metadata": {
        "id": "HwHvR6PfS5xt"
      },
      "execution_count": null,
      "outputs": []
    },
    {
      "cell_type": "markdown",
      "source": [
        "executer la fonction pour le 4ème review"
      ],
      "metadata": {
        "id": "JGLOYTc3gScW"
      }
    },
    {
      "cell_type": "code",
      "source": [
        "preprocess_text(review4)"
      ],
      "metadata": {
        "id": "2_FedogeTL5G",
        "colab": {
          "base_uri": "https://localhost:8080/",
          "height": 122
        },
        "outputId": "a4b918b9-84ba-42e9-b06f-9f8f93edd9d7"
      },
      "execution_count": null,
      "outputs": [
        {
          "output_type": "execute_result",
          "data": {
            "text/plain": [
              "'Basically there a family where little boy Jake thinks there a zombie in his closet his parents are fighting all the time This movie is slower than soap opera and suddenly Jake decides to become Rambo and kill the zombie OK first of all when you re going to make film you must Decide if its thriller or drama As drama the movie is watchable Parents are divorcing arguing like in real life And then we have Jake with his closet which totally ruins all the film expected to see BOOGEYMAN similar movie and instead watched drama with some meaningless thriller spots out of just for the well playing parents descent dialogs As for the shots with Jake just ignore them '"
            ],
            "application/vnd.google.colaboratory.intrinsic+json": {
              "type": "string"
            }
          },
          "metadata": {},
          "execution_count": 10
        }
      ]
    },
    {
      "cell_type": "markdown",
      "source": [
        "Prétraitez les reviews et stockez-les dans une nouvelle liste"
      ],
      "metadata": {
        "id": "WUMmt6dngPUV"
      }
    },
    {
      "cell_type": "code",
      "source": [
        "X = []\n",
        "sentences = list(movie_reviews['review'])\n",
        "for sen in sentences:\n",
        "  X.append(preprocess_text(sen))"
      ],
      "metadata": {
        "id": "Jl9Hx0tPYrRu"
      },
      "execution_count": null,
      "outputs": []
    },
    {
      "cell_type": "markdown",
      "source": [
        "convertir la sortie en nombres entiers en remplaçant \"positif\" par le chiffre 1 et négatif par le chiffre 0"
      ],
      "metadata": {
        "id": "7yZSUB20h5JL"
      }
    },
    {
      "cell_type": "code",
      "source": [
        "y = movie_reviews['sentiment']\n",
        "y = np.array(list(map(lambda x: 1 if x==\"positive\" else 0, y)))"
      ],
      "metadata": {
        "id": "FXZtnx5uZe8s"
      },
      "execution_count": null,
      "outputs": []
    },
    {
      "cell_type": "markdown",
      "source": [
        "Diviser le dataset en training et test sets"
      ],
      "metadata": {
        "id": "ljJ9NsI1iGTd"
      }
    },
    {
      "cell_type": "code",
      "source": [
        "X_train, X_test, y_train, y_test = train_test_split(X, y,test_size=0.20, random_state=42)"
      ],
      "metadata": {
        "id": "dI-mPn6CaP0M"
      },
      "execution_count": null,
      "outputs": []
    },
    {
      "cell_type": "markdown",
      "source": [
        "##IV/ La couche de l’embedding :"
      ],
      "metadata": {
        "id": "g8pNxGA1iJT8"
      }
    },
    {
      "cell_type": "markdown",
      "source": [
        "Dans un premier temps, nous allons utiliser la classe Tokenizer du module keras.preprocessing.text pour créer un dictionnaire word-to-index. Dans le dictionnaire word-to-index, chaque mot du corpus est utilisé comme clé, tandis qu'un index unique correspondant est utilisé comme valeur pour la clé. Exécutez le script suivant :"
      ],
      "metadata": {
        "id": "8eDHSjo7i3zT"
      }
    },
    {
      "cell_type": "code",
      "source": [
        "tokenizer = Tokenizer(num_words=5000)\n",
        "tokenizer.fit_on_texts(X_train)\n",
        "X_train = tokenizer.texts_to_sequences(X_train)\n",
        "X_test = tokenizer.texts_to_sequences(X_test)"
      ],
      "metadata": {
        "id": "4z50e3scaf2V"
      },
      "execution_count": null,
      "outputs": []
    },
    {
      "cell_type": "markdown",
      "source": [
        "X_train contient 50000 listes correspondant aux phrases où chacune contient des entiers. La taille de chaque liste est différente car les phrases possèdent des tailles différentes. Le script ci-dessous trouve la taille du vocabulaire, puis effectue un remplissage sur l'ensemble d'entraînement et de test.\n"
      ],
      "metadata": {
        "id": "dpHOwk5tisgM"
      }
    },
    {
      "cell_type": "code",
      "source": [
        "# Adding 1 because of reserved 0 index\n",
        "vocab_size = len(tokenizer.word_index) + 1\n",
        "maxlen = 100\n",
        "X_train = pad_sequences(X_train, padding='post', maxlen=maxlen)\n",
        "X_test = pad_sequences(X_test, padding='post', maxlen=maxlen)"
      ],
      "metadata": {
        "id": "zQ-1zFvabXam"
      },
      "execution_count": null,
      "outputs": []
    },
    {
      "cell_type": "markdown",
      "source": [
        "Les listes ont la même longueur, c'est-à-dire 100. De plus, la variable vocabulary_size contient maintenant une valeur 92547, ce qui signifie que le corpus contient 92547 mots\n",
        "uniques. GloVe pour créer notre matrice de fonctionnalités.\n",
        "Nous utiliserons GloVe pour créer notre matrice de features. Dans le script suivant, nous chargeons GloVe et créons un dictionnaire qui contiendra des mots en tant que clés et\n",
        "leur liste d’embeddings correspondante en tant que valeurs.\n"
      ],
      "metadata": {
        "id": "VcYrmZvtjVxm"
      }
    },
    {
      "cell_type": "markdown",
      "source": [
        "##A. Glove : \n",
        "\n",
        "---\n",
        "\n",
        "\n",
        "\n"
      ],
      "metadata": {
        "id": "-DeQcPsW51ZS"
      }
    },
    {
      "cell_type": "code",
      "source": [
        "from numpy import array\n",
        "from numpy import asarray\n",
        "from numpy import zeros\n",
        "def embeddings(path):\n",
        "  embeddings_dictionary = dict()\n",
        "  embeddings_file = open(path, encoding=\"utf8\")\n",
        "  for line in embeddings_file:\n",
        "    records = line.split()\n",
        "    word = records[0]\n",
        "    vector_dimensions = asarray(records[1:],dtype='float32')\n",
        "    embeddings_dictionary [word] = vector_dimensions\n",
        "  embeddings_file.close()\n",
        "  return embeddings_dictionary"
      ],
      "metadata": {
        "id": "MipaK5VDbaTQ"
      },
      "execution_count": null,
      "outputs": []
    },
    {
      "cell_type": "code",
      "source": [
        "embeddings_dictionary = embeddings(\"/content/glove.6B.100d.txt\")"
      ],
      "metadata": {
        "id": "REL2gxAHmsJ_"
      },
      "execution_count": null,
      "outputs": []
    },
    {
      "cell_type": "markdown",
      "source": [
        "Enfin, nous allons créer une matrice d’embeddings où chaque numéro de ligne correspondra à l'index du mot dans le corpus. La matrice aura 100 colonnes où chaque colonne contiendra les embeddings GloVe pour les mots de notre corpus."
      ],
      "metadata": {
        "id": "1N37LHSHjk8z"
      }
    },
    {
      "cell_type": "code",
      "source": [
        "embedding_matrix = zeros((vocab_size, 100))\n",
        "for word, index in tokenizer.word_index.items():\n",
        " embedding_vector = embeddings_dictionary.get(word)\n",
        " if embedding_vector is not None:\n",
        "    embedding_matrix[index] = embedding_vector"
      ],
      "metadata": {
        "id": "ngiH6bVHbnde"
      },
      "execution_count": null,
      "outputs": []
    },
    {
      "cell_type": "code",
      "source": [
        "embedding_matrix"
      ],
      "metadata": {
        "id": "0WD4Ssz_-083",
        "colab": {
          "base_uri": "https://localhost:8080/"
        },
        "outputId": "1ec97a92-ba9f-4158-faee-6d3d40788458"
      },
      "execution_count": null,
      "outputs": [
        {
          "output_type": "execute_result",
          "data": {
            "text/plain": [
              "array([[ 0.        ,  0.        ,  0.        , ...,  0.        ,\n",
              "         0.        ,  0.        ],\n",
              "       [-0.038194  , -0.24487001,  0.72812003, ..., -0.1459    ,\n",
              "         0.82779998,  0.27061999],\n",
              "       [-0.071953  ,  0.23127   ,  0.023731  , ..., -0.71894997,\n",
              "         0.86894   ,  0.19539   ],\n",
              "       ...,\n",
              "       [ 0.        ,  0.        ,  0.        , ...,  0.        ,\n",
              "         0.        ,  0.        ],\n",
              "       [ 0.37771001,  0.22946   , -0.30311   , ..., -0.33610001,\n",
              "         0.02637   , -0.72302002],\n",
              "       [ 0.99882001,  0.044     ,  0.58508003, ..., -0.54869002,\n",
              "         0.15141   ,  1.36880004]])"
            ]
          },
          "metadata": {},
          "execution_count": 19
        }
      ]
    },
    {
      "cell_type": "markdown",
      "source": [
        "###1/ Classification avec un simple réseau de neurones"
      ],
      "metadata": {
        "id": "jLJDxUj1QM0K"
      }
    },
    {
      "cell_type": "markdown",
      "source": [
        "####a) Créer le modèle"
      ],
      "metadata": {
        "id": "c62vo_eQjunE"
      }
    },
    {
      "cell_type": "code",
      "source": [
        "def simple_model(X_train, y_train):\n",
        "  # create model\n",
        "  model = Sequential()\n",
        "  model.add(Embedding(vocab_size, 100, weights=[embedding_matrix], input_length=maxlen , trainable=False))\n",
        "  model.add(Flatten())\n",
        "  model.add(Dense(1, activation= \"sigmoid\"))\n",
        "  #compile model\n",
        "  model.compile(loss='binary_crossentropy', optimizer='adam', metrics='acc')\n",
        "  #fit model\n",
        "  history = model.fit(X_train, y_train, batch_size=128, epochs=6, verbose=1, validation_split=0.2)\n",
        "  return model, history"
      ],
      "metadata": {
        "id": "5wMu6bbiP0_K"
      },
      "execution_count": null,
      "outputs": []
    },
    {
      "cell_type": "code",
      "source": [
        "model, history = simple_model(X_train, y_train)"
      ],
      "metadata": {
        "colab": {
          "base_uri": "https://localhost:8080/"
        },
        "id": "FQF0m5CGmbaZ",
        "outputId": "9a2f22c3-6673-439f-847a-12d2d43e6737"
      },
      "execution_count": null,
      "outputs": [
        {
          "output_type": "stream",
          "name": "stdout",
          "text": [
            "Epoch 1/6\n",
            "250/250 [==============================] - 2s 6ms/step - loss: 0.6075 - acc: 0.6691 - val_loss: 0.5424 - val_acc: 0.7270\n",
            "Epoch 2/6\n",
            "250/250 [==============================] - 1s 6ms/step - loss: 0.4998 - acc: 0.7576 - val_loss: 0.5217 - val_acc: 0.7391\n",
            "Epoch 3/6\n",
            "250/250 [==============================] - 2s 6ms/step - loss: 0.4615 - acc: 0.7829 - val_loss: 0.5550 - val_acc: 0.7201\n",
            "Epoch 4/6\n",
            "250/250 [==============================] - 1s 6ms/step - loss: 0.4407 - acc: 0.7955 - val_loss: 0.5230 - val_acc: 0.7410\n",
            "Epoch 5/6\n",
            "250/250 [==============================] - 1s 5ms/step - loss: 0.4196 - acc: 0.8081 - val_loss: 0.5233 - val_acc: 0.7439\n",
            "Epoch 6/6\n",
            "250/250 [==============================] - 1s 6ms/step - loss: 0.4164 - acc: 0.8090 - val_loss: 0.5311 - val_acc: 0.7387\n"
          ]
        }
      ]
    },
    {
      "cell_type": "markdown",
      "source": [
        "####b) Évaluer le modèle"
      ],
      "metadata": {
        "id": "7cNoa8M-j28o"
      }
    },
    {
      "cell_type": "code",
      "source": [
        "def evaluate(model, X_test, y_test):\n",
        "  score = model.evaluate(X_test, y_test, verbose=1)\n",
        "  print(\"Test Score:\", score[0])\n",
        "  print(\"Test Accuracy:\", score[1])"
      ],
      "metadata": {
        "id": "fIhh_5L8Y86P"
      },
      "execution_count": null,
      "outputs": []
    },
    {
      "cell_type": "code",
      "source": [
        "evaluate(model, X_test, y_test)"
      ],
      "metadata": {
        "colab": {
          "base_uri": "https://localhost:8080/"
        },
        "id": "wWkJ8qaMmagQ",
        "outputId": "2fa49e3c-eee1-49bf-e221-247d941362a7"
      },
      "execution_count": null,
      "outputs": [
        {
          "output_type": "stream",
          "name": "stdout",
          "text": [
            "313/313 [==============================] - 1s 2ms/step - loss: 0.5336 - acc: 0.7479\n",
            "Test Score: 0.5336050987243652\n",
            "Test Accuracy: 0.7479000091552734\n"
          ]
        }
      ]
    },
    {
      "cell_type": "markdown",
      "source": [
        "####c) Tracer les fonctions de loss et de accuracy pour les training et test sets"
      ],
      "metadata": {
        "id": "Q03215dIj7Zc"
      }
    },
    {
      "cell_type": "code",
      "source": [
        "def plotting(history):\n",
        "  plt.plot(history.history['acc'])\n",
        "  plt.plot(history.history['val_acc'])\n",
        "  plt.title('model accuracy')\n",
        "  plt.ylabel('accuracy')\n",
        "  plt.xlabel('epoch')\n",
        "  plt.legend(['train','test'], loc='upper left')\n",
        "  plt.show()\n",
        "  plt.plot(history.history['loss'])\n",
        "  plt.plot(history.history['val_loss'])\n",
        "  plt.title('model loss')\n",
        "  plt.ylabel('loss')\n",
        "  plt.xlabel('epoch')\n",
        "  plt.legend(['train','test'], loc='upper left')\n",
        "  plt.show()"
      ],
      "metadata": {
        "id": "sZAiyVsbZ4Yn"
      },
      "execution_count": null,
      "outputs": []
    },
    {
      "cell_type": "code",
      "source": [
        "plotting(history)"
      ],
      "metadata": {
        "colab": {
          "base_uri": "https://localhost:8080/",
          "height": 573
        },
        "id": "pbBlKiQ-mhRP",
        "outputId": "ddce26bc-c63f-418d-ba2b-3d33be76abc6"
      },
      "execution_count": null,
      "outputs": [
        {
          "output_type": "display_data",
          "data": {
            "text/plain": [
              "<Figure size 432x288 with 1 Axes>"
            ],
            "image/png": "[encoded data removed]"
          },
          "metadata": {
            "needs_background": "light"
          }
        },
        {
          "output_type": "display_data",
          "data": {
            "text/plain": [
              "<Figure size 432x288 with 1 Axes>"
            ],
            "image/png": "[encoded data removed]"
          },
          "metadata": {
            "needs_background": "light"
          }
        }
      ]
    },
    {
      "cell_type": "markdown",
      "source": [
        "###2/ Classification avec un réseau de neurones convolutionnel CNN"
      ],
      "metadata": {
        "id": "binz3Re4a6Y3"
      }
    },
    {
      "cell_type": "markdown",
      "source": [
        "####a) Créer le modèle"
      ],
      "metadata": {
        "id": "vTzPPVoYkIXs"
      }
    },
    {
      "cell_type": "code",
      "source": [
        "def CNN_model(X_train, y_train):\n",
        "  # create model\n",
        "  model = Sequential()\n",
        "  model.add(Embedding(vocab_size, 100, weights=[embedding_matrix], input_length=maxlen , trainable=False))\n",
        "  model.add(Conv1D(filters=128, kernel_size=5, activation= 'relu'))\n",
        "  model.add(GlobalMaxPooling1D())\n",
        "  model.add(Dense(1, activation='sigmoid'))\n",
        "  #compile model\n",
        "  model.compile(loss='binary_crossentropy', optimizer='adam', metrics='acc')\n",
        "  #fit model\n",
        "  history = model.fit(X_train, y_train, batch_size=128, epochs=6, verbose=1, validation_split=0.2)\n",
        "  return model, history"
      ],
      "metadata": {
        "id": "XZiiktph_FLA"
      },
      "execution_count": null,
      "outputs": []
    },
    {
      "cell_type": "code",
      "source": [
        "model, history = CNN_model(X_train, y_train)"
      ],
      "metadata": {
        "colab": {
          "base_uri": "https://localhost:8080/"
        },
        "id": "LM9hJLgSmSvy",
        "outputId": "79314cbb-3f97-4ba0-c893-0c1e80dfb94b"
      },
      "execution_count": null,
      "outputs": [
        {
          "output_type": "stream",
          "name": "stdout",
          "text": [
            "Epoch 1/6\n",
            "250/250 [==============================] - 24s 94ms/step - loss: 0.5098 - acc: 0.7492 - val_loss: 0.3973 - val_acc: 0.8220\n",
            "Epoch 2/6\n",
            "250/250 [==============================] - 23s 93ms/step - loss: 0.3715 - acc: 0.8363 - val_loss: 0.3630 - val_acc: 0.8356\n",
            "Epoch 3/6\n",
            "250/250 [==============================] - 26s 104ms/step - loss: 0.3172 - acc: 0.8671 - val_loss: 0.3805 - val_acc: 0.8254\n",
            "Epoch 4/6\n",
            "250/250 [==============================] - 23s 93ms/step - loss: 0.2817 - acc: 0.8846 - val_loss: 0.3428 - val_acc: 0.8476\n",
            "Epoch 5/6\n",
            "250/250 [==============================] - 24s 96ms/step - loss: 0.2484 - acc: 0.9037 - val_loss: 0.3674 - val_acc: 0.8375\n",
            "Epoch 6/6\n",
            "250/250 [==============================] - 24s 95ms/step - loss: 0.2151 - acc: 0.9214 - val_loss: 0.3449 - val_acc: 0.8478\n"
          ]
        }
      ]
    },
    {
      "cell_type": "markdown",
      "source": [
        "####b) Évaluer le modèle"
      ],
      "metadata": {
        "id": "XITrgTXwkLru"
      }
    },
    {
      "cell_type": "code",
      "source": [
        "evaluate(model, X_test, y_test)"
      ],
      "metadata": {
        "id": "lbPEnKxSkM_D",
        "colab": {
          "base_uri": "https://localhost:8080/"
        },
        "outputId": "90ee59f6-75cd-4fe4-d48c-8ceee9705637"
      },
      "execution_count": null,
      "outputs": [
        {
          "output_type": "stream",
          "name": "stdout",
          "text": [
            "313/313 [==============================] - 3s 11ms/step - loss: 0.3344 - acc: 0.8512\n",
            "Test Score: 0.33438143134117126\n",
            "Test Accuracy: 0.8511999845504761\n"
          ]
        }
      ]
    },
    {
      "cell_type": "markdown",
      "source": [
        "####c) Tracer les fonctions de loss et de accuracy pour les training et test sets"
      ],
      "metadata": {
        "id": "iiIXTtq0kNnp"
      }
    },
    {
      "cell_type": "code",
      "source": [
        "plotting(history)"
      ],
      "metadata": {
        "id": "BOTzghlXkV84",
        "colab": {
          "base_uri": "https://localhost:8080/",
          "height": 573
        },
        "outputId": "056ae598-08fc-4395-c66d-76d9bf67b478"
      },
      "execution_count": null,
      "outputs": [
        {
          "output_type": "display_data",
          "data": {
            "text/plain": [
              "<Figure size 432x288 with 1 Axes>"
            ],
            "image/png": "[encoded data removed]"
          },
          "metadata": {
            "needs_background": "light"
          }
        },
        {
          "output_type": "display_data",
          "data": {
            "text/plain": [
              "<Figure size 432x288 with 1 Axes>"
            ],
            "image/png": "[encoded data removed]"
          },
          "metadata": {
            "needs_background": "light"
          }
        }
      ]
    },
    {
      "cell_type": "markdown",
      "source": [
        "###3/ Classification avec un réseau de neurones récurrent RNN (LSTM)"
      ],
      "metadata": {
        "id": "35ExtptckxTs"
      }
    },
    {
      "cell_type": "markdown",
      "source": [
        "####a) Créer le modèle"
      ],
      "metadata": {
        "id": "wuEr6EZWk4uM"
      }
    },
    {
      "cell_type": "code",
      "source": [
        "def LSTM_model(X_train, y_train, l, embedding_matrix):\n",
        "  # create model\n",
        "  model = Sequential()\n",
        "  model.add(Embedding(vocab_size, l, weights=[embedding_matrix], input_length=maxlen , trainable=False))\n",
        "  model.add(LSTM(128))\n",
        "  model.add(Dense(1, activation='sigmoid'))\n",
        "  #compile model\n",
        "  model.compile(loss='binary_crossentropy', optimizer='adam', metrics='acc')\n",
        "  #fit model\n",
        "  history = model.fit(X_train, y_train, batch_size=128, epochs=6, verbose=1, validation_split=0.2)\n",
        "  return model, history"
      ],
      "metadata": {
        "id": "qrVr55WvkyoE"
      },
      "execution_count": null,
      "outputs": []
    },
    {
      "cell_type": "code",
      "source": [
        "model, history = LSTM_model(X_train, y_train, 100, embedding_matrix)"
      ],
      "metadata": {
        "colab": {
          "base_uri": "https://localhost:8080/"
        },
        "id": "nF4mSQwpmG5V",
        "outputId": "f5cc893a-0d1b-4af8-cbff-c726fb3a5a82"
      },
      "execution_count": null,
      "outputs": [
        {
          "output_type": "stream",
          "name": "stdout",
          "text": [
            "Epoch 1/6\n",
            "250/250 [==============================] - 87s 338ms/step - loss: 0.5557 - acc: 0.7072 - val_loss: 0.4840 - val_acc: 0.7657\n",
            "Epoch 2/6\n",
            "250/250 [==============================] - 84s 335ms/step - loss: 0.4524 - acc: 0.7915 - val_loss: 0.4965 - val_acc: 0.7766\n",
            "Epoch 3/6\n",
            "250/250 [==============================] - 85s 340ms/step - loss: 0.4056 - acc: 0.8155 - val_loss: 0.3802 - val_acc: 0.8282\n",
            "Epoch 4/6\n",
            "250/250 [==============================] - 84s 335ms/step - loss: 0.3717 - acc: 0.8335 - val_loss: 0.3584 - val_acc: 0.8428\n",
            "Epoch 5/6\n",
            "250/250 [==============================] - 84s 337ms/step - loss: 0.3509 - acc: 0.8450 - val_loss: 0.3479 - val_acc: 0.8475\n",
            "Epoch 6/6\n",
            "250/250 [==============================] - 86s 345ms/step - loss: 0.3268 - acc: 0.8580 - val_loss: 0.3500 - val_acc: 0.8465\n"
          ]
        }
      ]
    },
    {
      "cell_type": "markdown",
      "source": [
        "####b) Évaluer le modèle"
      ],
      "metadata": {
        "id": "wceKYL7Ck8AD"
      }
    },
    {
      "cell_type": "code",
      "source": [
        "evaluate(model, X_test, y_test)"
      ],
      "metadata": {
        "id": "HC2wHOZqk8Xu",
        "colab": {
          "base_uri": "https://localhost:8080/"
        },
        "outputId": "cb9e7ffe-63d9-4767-cac3-a47791b667d7"
      },
      "execution_count": null,
      "outputs": [
        {
          "output_type": "stream",
          "name": "stdout",
          "text": [
            "313/313 [==============================] - 11s 35ms/step - loss: 0.3496 - acc: 0.8432\n",
            "Test Score: 0.3495866358280182\n",
            "Test Accuracy: 0.8432000279426575\n"
          ]
        }
      ]
    },
    {
      "cell_type": "markdown",
      "source": [
        "####c) Tracer les fonctions de loss et de accuracy pour les training et test sets"
      ],
      "metadata": {
        "id": "EeTzq5d4k_Ai"
      }
    },
    {
      "cell_type": "code",
      "source": [
        "plotting(history)"
      ],
      "metadata": {
        "id": "sW5J0R5glBVG",
        "colab": {
          "base_uri": "https://localhost:8080/",
          "height": 573
        },
        "outputId": "d9761988-1310-474f-b390-3dc7a160aa2e"
      },
      "execution_count": null,
      "outputs": [
        {
          "output_type": "display_data",
          "data": {
            "text/plain": [
              "<Figure size 432x288 with 1 Axes>"
            ],
            "image/png": "[encoded data removed]"
          },
          "metadata": {
            "needs_background": "light"
          }
        },
        {
          "output_type": "display_data",
          "data": {
            "text/plain": [
              "<Figure size 432x288 with 1 Axes>"
            ],
            "image/png": "[encoded data removed]"
          },
          "metadata": {
            "needs_background": "light"
          }
        }
      ]
    },
    {
      "cell_type": "markdown",
      "source": [
        "####d) Comparer les résultats des 3 classifieurs"
      ],
      "metadata": {
        "id": "qMxHS1NFoBn3"
      }
    },
    {
      "cell_type": "markdown",
      "source": [
        "**classifieur 1 : simple réseau de neurones :**\n",
        "                \n",
        "                Test Score: 0.5336050987243652\n",
        "                Test Accuracy: 0.7479000091552734\n",
        "\n",
        "**classifieur 2 : réseau de neurones convolutionnel CNN :**\n",
        "                \n",
        "                Test Score: 0.33438143134117126\n",
        "                Test Accuracy: 0.8511999845504761\n",
        "\n",
        "**classifieur 3 : réseau de neurones récurrent RNN (LSTM) :**\n",
        "                \n",
        "                Test Score: 0.3495866358280182\n",
        "                Test Accuracy: 0.8432000279426575\n",
        "\n",
        "\n",
        "\n",
        "---\n",
        "\n",
        "\n",
        "  **=> les classifieurs 2 et 3 ont donné des résultats très proches, et meilleurs que celles du classifieur 1**"
      ],
      "metadata": {
        "id": "8OhQDylUO9le"
      }
    },
    {
      "cell_type": "markdown",
      "source": [
        "####e) Choisir une instance aléatoirement et donner sa polarité."
      ],
      "metadata": {
        "id": "DrOpdtdxoH8Y"
      }
    },
    {
      "cell_type": "code",
      "source": [
        "index = np.random.randint(0, 10000)\n",
        "index"
      ],
      "metadata": {
        "colab": {
          "base_uri": "https://localhost:8080/"
        },
        "id": "wZ8p2UV2ag0F",
        "outputId": "cf753e72-969d-4031-b35b-c2915664519f"
      },
      "execution_count": null,
      "outputs": [
        {
          "output_type": "execute_result",
          "data": {
            "text/plain": [
              "8227"
            ]
          },
          "metadata": {},
          "execution_count": 34
        }
      ]
    },
    {
      "cell_type": "code",
      "source": [
        "instance = X_test[index]\n",
        "instance"
      ],
      "metadata": {
        "colab": {
          "base_uri": "https://localhost:8080/"
        },
        "id": "mzShVs5_aqmF",
        "outputId": "877fa729-ba3a-4a72-adc5-1b5a7fd76bf0"
      },
      "execution_count": null,
      "outputs": [
        {
          "output_type": "execute_result",
          "data": {
            "text/plain": [
              "array([   3,  358,    2,    1,  845,    3,   24,   27,    1,  125,    3,\n",
              "        249,  115,   46,  131,  266,   72,   95,   47,  700,    6,  687,\n",
              "       3312,   18,    1,  172,    3,    1, 1065,  234,    3,  423,   27,\n",
              "         62,  424,  159,   28,   20,  409, 3690,   79,  479,   41,   21,\n",
              "         63,   95,    3, 3997,   49, 1084,   42,    4,   25, 2641,  117,\n",
              "          7,   22, 2367,   19,    9,   67,  118,   75, 1065,   15,   63,\n",
              "         52,  319,   28,   67,    8, 1152,   41,   20,   27,   26,    3,\n",
              "         43,  738,    2, 1781,   42,  428,    8,  115,   56,   25,    1,\n",
              "        464, 2931,    9,  738,    2, 1781,    5,  278,    2,   13,   26,\n",
              "        337], dtype=int32)"
            ]
          },
          "metadata": {},
          "execution_count": 35
        }
      ]
    },
    {
      "cell_type": "code",
      "source": [
        "y_test[index]"
      ],
      "metadata": {
        "colab": {
          "base_uri": "https://localhost:8080/"
        },
        "id": "hn4QsZ69pKnh",
        "outputId": "66eb5144-c15d-4e4e-dc60-202261e86c02"
      },
      "execution_count": null,
      "outputs": [
        {
          "output_type": "execute_result",
          "data": {
            "text/plain": [
              "0"
            ]
          },
          "metadata": {},
          "execution_count": 36
        }
      ]
    },
    {
      "cell_type": "code",
      "source": [
        "prediction = model.predict(np.array([instance]))[0]\n",
        "prediction"
      ],
      "metadata": {
        "colab": {
          "base_uri": "https://localhost:8080/"
        },
        "id": "BOWRG5ahuzSM",
        "outputId": "f8d6cc75-6fa3-4790-f158-7f6afb7a5976"
      },
      "execution_count": null,
      "outputs": [
        {
          "output_type": "execute_result",
          "data": {
            "text/plain": [
              "array([0.18452162], dtype=float32)"
            ]
          },
          "metadata": {},
          "execution_count": 37
        }
      ]
    },
    {
      "cell_type": "code",
      "source": [
        "if prediction[0] > 0.5 :\n",
        "  print('positive')\n",
        "else :\n",
        "  print('negative')"
      ],
      "metadata": {
        "colab": {
          "base_uri": "https://localhost:8080/"
        },
        "id": "PFWyoxbPvHr0",
        "outputId": "f441e126-5860-479a-a029-146a9252bf9e"
      },
      "execution_count": null,
      "outputs": [
        {
          "output_type": "stream",
          "name": "stdout",
          "text": [
            "negative\n"
          ]
        }
      ]
    },
    {
      "cell_type": "markdown",
      "source": [
        "###4/ Classification avec un réseau de neurones récurrent RNN (GRU)"
      ],
      "metadata": {
        "id": "qp4uINHqM9tW"
      }
    },
    {
      "cell_type": "markdown",
      "source": [
        "####a) Créer le modèle "
      ],
      "metadata": {
        "id": "rZmeQADw7oE_"
      }
    },
    {
      "cell_type": "code",
      "source": [
        "def GRU_model(X_train, y_train, l, embedding_matrix):\n",
        "  # create model\n",
        "  model = Sequential()\n",
        "  model.add(Embedding(vocab_size, l, weights=[embedding_matrix], input_length=maxlen , trainable=False))\n",
        "  model.add(GRU(128))\n",
        "  model.add(Dense(1, activation='sigmoid'))\n",
        "  #compile model\n",
        "  model.compile(loss='binary_crossentropy', optimizer='adam', metrics='acc')\n",
        "  #fit model\n",
        "  history = model.fit(X_train, y_train, batch_size=128, epochs=6, verbose=1, validation_split=0.2)\n",
        "  return model, history"
      ],
      "metadata": {
        "id": "bFzgIBOwwrae"
      },
      "execution_count": null,
      "outputs": []
    },
    {
      "cell_type": "code",
      "source": [
        "model, history = GRU_model(X_train, y_train, 100, embedding_matrix)"
      ],
      "metadata": {
        "colab": {
          "base_uri": "https://localhost:8080/"
        },
        "id": "bplFyv2iw_km",
        "outputId": "90ef0825-d9a8-4452-d81c-0104ccc247bb"
      },
      "execution_count": null,
      "outputs": [
        {
          "output_type": "stream",
          "name": "stdout",
          "text": [
            "Epoch 1/6\n",
            "250/250 [==============================] - 69s 271ms/step - loss: 0.5331 - acc: 0.7191 - val_loss: 0.4025 - val_acc: 0.8179\n",
            "Epoch 2/6\n",
            "250/250 [==============================] - 67s 270ms/step - loss: 0.3952 - acc: 0.8207 - val_loss: 0.3759 - val_acc: 0.8359\n",
            "Epoch 3/6\n",
            "250/250 [==============================] - 67s 268ms/step - loss: 0.3622 - acc: 0.8372 - val_loss: 0.3540 - val_acc: 0.8440\n",
            "Epoch 4/6\n",
            "250/250 [==============================] - 67s 267ms/step - loss: 0.3373 - acc: 0.8520 - val_loss: 0.3577 - val_acc: 0.8394\n",
            "Epoch 5/6\n",
            "250/250 [==============================] - 67s 267ms/step - loss: 0.3163 - acc: 0.8614 - val_loss: 0.3322 - val_acc: 0.8572\n",
            "Epoch 6/6\n",
            "250/250 [==============================] - 67s 269ms/step - loss: 0.2963 - acc: 0.8741 - val_loss: 0.3233 - val_acc: 0.8565\n"
          ]
        }
      ]
    },
    {
      "cell_type": "markdown",
      "source": [
        "####b) Évaluer le modèle"
      ],
      "metadata": {
        "id": "vRQL5-tn7uo-"
      }
    },
    {
      "cell_type": "code",
      "source": [
        "evaluate(model, X_test, y_test)"
      ],
      "metadata": {
        "colab": {
          "base_uri": "https://localhost:8080/"
        },
        "id": "YiYaIkd6xE9S",
        "outputId": "5ddd5045-a7ee-4f2d-8f84-b38951038ad5"
      },
      "execution_count": null,
      "outputs": [
        {
          "output_type": "stream",
          "name": "stdout",
          "text": [
            "313/313 [==============================] - 9s 27ms/step - loss: 0.3140 - acc: 0.8623\n",
            "Test Score: 0.313990980386734\n",
            "Test Accuracy: 0.8622999787330627\n"
          ]
        }
      ]
    },
    {
      "cell_type": "markdown",
      "source": [
        "####c) Tracer les fonctions de loss et de accuracy pour les training et test sets"
      ],
      "metadata": {
        "id": "1lgZiGsG8ds9"
      }
    },
    {
      "cell_type": "code",
      "source": [
        "plotting(history)"
      ],
      "metadata": {
        "colab": {
          "base_uri": "https://localhost:8080/",
          "height": 573
        },
        "id": "gpE1sN3L8oN6",
        "outputId": "c8a4fed0-0cf7-43a2-d57e-8bfea1a173e3"
      },
      "execution_count": null,
      "outputs": [
        {
          "output_type": "display_data",
          "data": {
            "text/plain": [
              "<Figure size 432x288 with 1 Axes>"
            ],
            "image/png": "[encoded data removed]"
          },
          "metadata": {
            "needs_background": "light"
          }
        },
        {
          "output_type": "display_data",
          "data": {
            "text/plain": [
              "<Figure size 432x288 with 1 Axes>"
            ],
            "image/png": "[encoded data removed]"
          },
          "metadata": {
            "needs_background": "light"
          }
        }
      ]
    },
    {
      "cell_type": "markdown",
      "source": [
        "###5/ Classification avec un réseau RNN+CNN"
      ],
      "metadata": {
        "id": "0cIP2hkQNEWl"
      }
    },
    {
      "cell_type": "markdown",
      "source": [
        "####a) Créer le modèle"
      ],
      "metadata": {
        "id": "gAwpCRWZ8Cp5"
      }
    },
    {
      "cell_type": "code",
      "source": [
        "def RNNCNN_model(X_train, y_train, l, embedding_matrix):\n",
        "    model = Sequential()\n",
        "    model.add((Embedding(vocab_size, l, weights=[embedding_matrix],input_length=maxlen)))\n",
        "    model.add(Conv1D(filters=128, kernel_size=5, activation='relu'))\n",
        "    model.add(MaxPooling1D())\n",
        "    model.add(LSTM(128))\n",
        "    model.add(Dense(1, activation='sigmoid'))\n",
        "    model.compile(loss='binary_crossentropy', optimizer='adam', metrics=['accuracy'])\n",
        "    history=model.fit(X_train,y_train,epochs=6,batch_size=128,verbose=1,validation_split=0.2)\n",
        "    return model,history"
      ],
      "metadata": {
        "id": "CiP6Y7E0xZR1"
      },
      "execution_count": null,
      "outputs": []
    },
    {
      "cell_type": "code",
      "source": [
        "model, history = RNNCNN_model(X_train, y_train, 100, embedding_matrix)"
      ],
      "metadata": {
        "colab": {
          "base_uri": "https://localhost:8080/"
        },
        "id": "obuIlUB3ybVO",
        "outputId": "3015cc82-aa6e-4717-fdc9-cd5380fdba50"
      },
      "execution_count": null,
      "outputs": [
        {
          "output_type": "stream",
          "name": "stdout",
          "text": [
            "Epoch 1/6\n",
            "250/250 [==============================] - 104s 408ms/step - loss: 0.4808 - accuracy: 0.7533 - val_loss: 0.3802 - val_accuracy: 0.8200\n",
            "Epoch 2/6\n",
            "250/250 [==============================] - 102s 409ms/step - loss: 0.3244 - accuracy: 0.8611 - val_loss: 0.4098 - val_accuracy: 0.8170\n",
            "Epoch 3/6\n",
            "250/250 [==============================] - 102s 409ms/step - loss: 0.2687 - accuracy: 0.8890 - val_loss: 0.3068 - val_accuracy: 0.8696\n",
            "Epoch 4/6\n",
            "250/250 [==============================] - 102s 410ms/step - loss: 0.2292 - accuracy: 0.9090 - val_loss: 0.3118 - val_accuracy: 0.8701\n",
            "Epoch 5/6\n",
            "250/250 [==============================] - 101s 404ms/step - loss: 0.1882 - accuracy: 0.9270 - val_loss: 0.3641 - val_accuracy: 0.8673\n",
            "Epoch 6/6\n",
            "250/250 [==============================] - 103s 412ms/step - loss: 0.1510 - accuracy: 0.9452 - val_loss: 0.3535 - val_accuracy: 0.8602\n"
          ]
        }
      ]
    },
    {
      "cell_type": "markdown",
      "source": [
        "####b) Évaluer le modèle"
      ],
      "metadata": {
        "id": "hYWByJ_78HhN"
      }
    },
    {
      "cell_type": "code",
      "source": [
        "evaluate(model, X_test, y_test)"
      ],
      "metadata": {
        "colab": {
          "base_uri": "https://localhost:8080/"
        },
        "id": "B1bt-UOkyYev",
        "outputId": "bdc36e52-840f-419e-e8c4-3b57a0c4ecd8"
      },
      "execution_count": null,
      "outputs": [
        {
          "output_type": "stream",
          "name": "stdout",
          "text": [
            "313/313 [==============================] - 9s 29ms/step - loss: 0.3324 - accuracy: 0.8672\n",
            "Test Score: 0.3323545455932617\n",
            "Test Accuracy: 0.8672000169754028\n"
          ]
        }
      ]
    },
    {
      "cell_type": "markdown",
      "source": [
        "##B. Word2Vec\n",
        "\n",
        "---\n",
        "\n"
      ],
      "metadata": {
        "id": "cYv5X1I6OlJd"
      }
    },
    {
      "cell_type": "code",
      "source": [
        "word2vec=embeddings(\"/content/GoogleNews-vectors-negative300(first500000).txt\")"
      ],
      "metadata": {
        "id": "fSoew3L24-pu"
      },
      "execution_count": null,
      "outputs": []
    },
    {
      "cell_type": "code",
      "source": [
        "embedding_matrix1 = zeros((vocab_size, 300)) \n",
        "for word, index in tokenizer.word_index.items(): \n",
        "    embedding_vector = word2vec.get(word) \n",
        "    if embedding_vector is not None: \n",
        "        embedding_matrix1[index] = embedding_vector"
      ],
      "metadata": {
        "id": "tGWkwBsh5ddp"
      },
      "execution_count": null,
      "outputs": []
    },
    {
      "cell_type": "markdown",
      "source": [
        "###1/ Classification avec un réseau de neurones récurrent (LSTM)"
      ],
      "metadata": {
        "id": "wNN_p2Vo9q3Z"
      }
    },
    {
      "cell_type": "markdown",
      "source": [
        "####a) Créer le modèle"
      ],
      "metadata": {
        "id": "-adq4eU11jx-"
      }
    },
    {
      "cell_type": "code",
      "source": [
        "model, history = LSTM_model(X_train, y_train, 300, embedding_matrix1)"
      ],
      "metadata": {
        "id": "6OKuWu2fAXO5",
        "colab": {
          "base_uri": "https://localhost:8080/"
        },
        "outputId": "ca1fb3b2-cbc6-4a9a-af29-ef775a69a9d0"
      },
      "execution_count": null,
      "outputs": [
        {
          "output_type": "stream",
          "name": "stdout",
          "text": [
            "Epoch 1/6\n",
            "250/250 [==============================] - 111s 436ms/step - loss: 0.4739 - acc: 0.7733 - val_loss: 0.3938 - val_acc: 0.8325\n",
            "Epoch 2/6\n",
            "250/250 [==============================] - 108s 432ms/step - loss: 0.4042 - acc: 0.8191 - val_loss: 0.3765 - val_acc: 0.8313\n",
            "Epoch 3/6\n",
            "250/250 [==============================] - 109s 436ms/step - loss: 0.3670 - acc: 0.8361 - val_loss: 0.3968 - val_acc: 0.8095\n",
            "Epoch 4/6\n",
            "250/250 [==============================] - 108s 433ms/step - loss: 0.3488 - acc: 0.8453 - val_loss: 0.3912 - val_acc: 0.8420\n",
            "Epoch 5/6\n",
            "250/250 [==============================] - 109s 437ms/step - loss: 0.3327 - acc: 0.8547 - val_loss: 0.3268 - val_acc: 0.8580\n",
            "Epoch 6/6\n",
            "250/250 [==============================] - 109s 435ms/step - loss: 0.3172 - acc: 0.8630 - val_loss: 0.3247 - val_acc: 0.8615\n"
          ]
        }
      ]
    },
    {
      "cell_type": "markdown",
      "source": [
        "####b) Évaluer le modèle"
      ],
      "metadata": {
        "id": "Br6qS4NK1-NH"
      }
    },
    {
      "cell_type": "code",
      "source": [
        "evaluate(model, X_test, y_test)"
      ],
      "metadata": {
        "id": "qgJXbMGAAbd9",
        "colab": {
          "base_uri": "https://localhost:8080/"
        },
        "outputId": "777bb1db-70fa-4025-9549-9d052025622f"
      },
      "execution_count": null,
      "outputs": [
        {
          "output_type": "stream",
          "name": "stdout",
          "text": [
            "313/313 [==============================] - 20s 65ms/step - loss: 0.3194 - acc: 0.8627\n",
            "Test Score: 0.31937655806541443\n",
            "Test Accuracy: 0.8626999855041504\n"
          ]
        }
      ]
    },
    {
      "cell_type": "markdown",
      "source": [
        "####c) Tracer les fonctions de loss et de accuracy pour les training et test sets"
      ],
      "metadata": {
        "id": "A_QjbGoM2Xz3"
      }
    },
    {
      "cell_type": "code",
      "source": [
        "plotting(history)"
      ],
      "metadata": {
        "colab": {
          "base_uri": "https://localhost:8080/",
          "height": 573
        },
        "id": "Qv_oZoEfBN7e",
        "outputId": "38e70f68-6627-4103-de37-2214e43977b0"
      },
      "execution_count": null,
      "outputs": [
        {
          "output_type": "display_data",
          "data": {
            "text/plain": [
              "<Figure size 432x288 with 1 Axes>"
            ],
            "image/png": "[encoded data removed]"
          },
          "metadata": {
            "needs_background": "light"
          }
        },
        {
          "output_type": "display_data",
          "data": {
            "text/plain": [
              "<Figure size 432x288 with 1 Axes>"
            ],
            "image/png": "[encoded data removed]"
          },
          "metadata": {
            "needs_background": "light"
          }
        }
      ]
    },
    {
      "cell_type": "markdown",
      "source": [
        "###2/ Classification avec un réseau de neurones récurrent (GRU)"
      ],
      "metadata": {
        "id": "K6CGWnh2-DiJ"
      }
    },
    {
      "cell_type": "markdown",
      "source": [
        "####a) Créer le modèle"
      ],
      "metadata": {
        "id": "OXevhTIL1tpK"
      }
    },
    {
      "cell_type": "code",
      "source": [
        "model, history = GRU_model(X_train, y_train, 300, embedding_matrix1)"
      ],
      "metadata": {
        "colab": {
          "base_uri": "https://localhost:8080/"
        },
        "id": "7O7AvnedBX_9",
        "outputId": "0f4b12c0-f6e4-4275-cae1-2d0aceb53bbe"
      },
      "execution_count": null,
      "outputs": [
        {
          "output_type": "stream",
          "name": "stdout",
          "text": [
            "Epoch 1/6\n",
            "250/250 [==============================] - 88s 345ms/step - loss: 0.4694 - acc: 0.7642 - val_loss: 0.3754 - val_acc: 0.8365\n",
            "Epoch 2/6\n",
            "250/250 [==============================] - 86s 346ms/step - loss: 0.3693 - acc: 0.8367 - val_loss: 0.3373 - val_acc: 0.8509\n",
            "Epoch 3/6\n",
            "250/250 [==============================] - 86s 345ms/step - loss: 0.3385 - acc: 0.8514 - val_loss: 0.3841 - val_acc: 0.8340\n",
            "Epoch 4/6\n",
            "250/250 [==============================] - 86s 343ms/step - loss: 0.3210 - acc: 0.8601 - val_loss: 0.3277 - val_acc: 0.8589\n",
            "Epoch 5/6\n",
            "250/250 [==============================] - 85s 341ms/step - loss: 0.3054 - acc: 0.8684 - val_loss: 0.3116 - val_acc: 0.8630\n",
            "Epoch 6/6\n",
            "250/250 [==============================] - 85s 341ms/step - loss: 0.2949 - acc: 0.8742 - val_loss: 0.3405 - val_acc: 0.8518\n"
          ]
        }
      ]
    },
    {
      "cell_type": "markdown",
      "source": [
        "####b) Évaluer le modèle"
      ],
      "metadata": {
        "id": "reADq-Fg2AOB"
      }
    },
    {
      "cell_type": "code",
      "source": [
        "evaluate(model, X_test, y_test)"
      ],
      "metadata": {
        "id": "VbaoKMU8BZ1i",
        "colab": {
          "base_uri": "https://localhost:8080/"
        },
        "outputId": "a39d8de0-86c0-4a1d-a4f5-7af9da3a7e1e"
      },
      "execution_count": null,
      "outputs": [
        {
          "output_type": "stream",
          "name": "stdout",
          "text": [
            "313/313 [==============================] - 12s 37ms/step - loss: 0.3373 - acc: 0.8471\n",
            "Test Score: 0.33732911944389343\n",
            "Test Accuracy: 0.847100019454956\n"
          ]
        }
      ]
    },
    {
      "cell_type": "markdown",
      "source": [
        "####c) Tracer les fonctions de loss et de accuracy pour les training et test sets"
      ],
      "metadata": {
        "id": "4L2j6kKL2ZwG"
      }
    },
    {
      "cell_type": "code",
      "source": [
        "plotting(history)"
      ],
      "metadata": {
        "id": "82N9v-ARBcWh",
        "colab": {
          "base_uri": "https://localhost:8080/",
          "height": 573
        },
        "outputId": "15df47fb-d616-47c6-a3cf-c6cd63b954d4"
      },
      "execution_count": null,
      "outputs": [
        {
          "output_type": "display_data",
          "data": {
            "text/plain": [
              "<Figure size 432x288 with 1 Axes>"
            ],
            "image/png": "[encoded data removed]"
          },
          "metadata": {
            "needs_background": "light"
          }
        },
        {
          "output_type": "display_data",
          "data": {
            "text/plain": [
              "<Figure size 432x288 with 1 Axes>"
            ],
            "image/png": "[encoded data removed]"
          },
          "metadata": {
            "needs_background": "light"
          }
        }
      ]
    },
    {
      "cell_type": "markdown",
      "source": [
        "###3/ Classification avec un réseau RNN+CNN"
      ],
      "metadata": {
        "id": "MwPiP4M4-Nqz"
      }
    },
    {
      "cell_type": "markdown",
      "source": [
        "####a) Créer le modèle"
      ],
      "metadata": {
        "id": "WiYgc24K1vSI"
      }
    },
    {
      "cell_type": "code",
      "source": [
        "model, history = RNNCNN_model(X_train, y_train, 300, embedding_matrix1)"
      ],
      "metadata": {
        "id": "5ZCxE-HbBh0I",
        "colab": {
          "base_uri": "https://localhost:8080/"
        },
        "outputId": "4bbd0da3-0608-48ee-9f96-aa6304864dc2"
      },
      "execution_count": null,
      "outputs": [
        {
          "output_type": "stream",
          "name": "stdout",
          "text": [
            "Epoch 1/6\n",
            "250/250 [==============================] - 212s 839ms/step - loss: 0.4118 - accuracy: 0.8046 - val_loss: 0.3384 - val_accuracy: 0.8508\n",
            "Epoch 2/6\n",
            "250/250 [==============================] - 209s 836ms/step - loss: 0.2783 - accuracy: 0.8874 - val_loss: 0.3279 - val_accuracy: 0.8600\n",
            "Epoch 3/6\n",
            "250/250 [==============================] - 208s 833ms/step - loss: 0.2177 - accuracy: 0.9163 - val_loss: 0.3167 - val_accuracy: 0.8696\n",
            "Epoch 4/6\n",
            "250/250 [==============================] - 208s 834ms/step - loss: 0.1526 - accuracy: 0.9459 - val_loss: 0.3493 - val_accuracy: 0.8637\n",
            "Epoch 5/6\n",
            "250/250 [==============================] - 210s 838ms/step - loss: 0.0858 - accuracy: 0.9737 - val_loss: 0.4435 - val_accuracy: 0.8622\n",
            "Epoch 6/6\n",
            "250/250 [==============================] - 210s 839ms/step - loss: 0.0436 - accuracy: 0.9878 - val_loss: 0.5459 - val_accuracy: 0.8599\n"
          ]
        }
      ]
    },
    {
      "cell_type": "markdown",
      "source": [
        "####b) Évaluer le modèle"
      ],
      "metadata": {
        "id": "aO5nd4402COZ"
      }
    },
    {
      "cell_type": "code",
      "source": [
        "evaluate(model, X_test, y_test)"
      ],
      "metadata": {
        "id": "ZXJqU08yBa8g",
        "colab": {
          "base_uri": "https://localhost:8080/"
        },
        "outputId": "4d4eb3ab-cd93-4405-ca96-81350e9dff5c"
      },
      "execution_count": null,
      "outputs": [
        {
          "output_type": "stream",
          "name": "stdout",
          "text": [
            "313/313 [==============================] - 13s 42ms/step - loss: 0.5128 - accuracy: 0.8630\n",
            "Test Score: 0.5127543807029724\n",
            "Test Accuracy: 0.8629999756813049\n"
          ]
        }
      ]
    },
    {
      "cell_type": "markdown",
      "source": [
        "##C. FastText\n",
        "\n",
        "---\n",
        "\n"
      ],
      "metadata": {
        "id": "4UI4V9yKOgeL"
      }
    },
    {
      "cell_type": "code",
      "source": [
        "from tqdm import tqdm\n",
        "import os, re, csv, math, codecs"
      ],
      "metadata": {
        "id": "8M1FqQiq856R"
      },
      "execution_count": null,
      "outputs": []
    },
    {
      "cell_type": "code",
      "source": [
        "embeddings_index = {}\n",
        "f = codecs.open('/content/fasttext.wiki.simple.vec', encoding='utf-8')\n",
        "for line in tqdm(f):\n",
        "    values = line.rstrip().rsplit(' ')\n",
        "    word = values[0]\n",
        "    coefs = np.asarray(values[1:], dtype='float32')\n",
        "    embeddings_index[word] = coefs\n",
        "f.close()\n",
        "print('found %s word vectors' % len(embeddings_index))"
      ],
      "metadata": {
        "colab": {
          "base_uri": "https://localhost:8080/"
        },
        "id": "cxNgeD9J8_Jq",
        "outputId": "cc98d6fd-eb4c-46bd-90c5-7b11dad0aaee"
      },
      "execution_count": null,
      "outputs": [
        {
          "output_type": "stream",
          "name": "stderr",
          "text": [
            "111052it [00:11, 9549.60it/s]"
          ]
        },
        {
          "output_type": "stream",
          "name": "stdout",
          "text": [
            "found 111052 word vectors\n"
          ]
        },
        {
          "output_type": "stream",
          "name": "stderr",
          "text": [
            "\n"
          ]
        }
      ]
    },
    {
      "cell_type": "code",
      "source": [
        "embedding_matrix2 = zeros((vocab_size, 100)) \n",
        "for word, index in tokenizer.word_index.items(): \n",
        "    embeddings_index = embeddings_dictionary.get(word) \n",
        "    if embeddings_index is not None: \n",
        "        embedding_matrix2[index] = embeddings_index"
      ],
      "metadata": {
        "id": "5IT2zbGn9LrM"
      },
      "execution_count": null,
      "outputs": []
    },
    {
      "cell_type": "markdown",
      "source": [
        "###1/ Classification avec un réseau de neurones récurrent (LSTM)"
      ],
      "metadata": {
        "id": "VzFuyYKG9wWb"
      }
    },
    {
      "cell_type": "markdown",
      "source": [
        "####a) Créer le modèle"
      ],
      "metadata": {
        "id": "TjX9ULWV1zAK"
      }
    },
    {
      "cell_type": "code",
      "source": [
        "model, history = LSTM_model(X_train, y_train, 100, embedding_matrix2)"
      ],
      "metadata": {
        "colab": {
          "base_uri": "https://localhost:8080/"
        },
        "id": "ktBI_RH7BpgR",
        "outputId": "a22051e5-726b-480a-dffe-d1a1c42bf99b"
      },
      "execution_count": null,
      "outputs": [
        {
          "output_type": "stream",
          "name": "stdout",
          "text": [
            "Epoch 1/6\n",
            "250/250 [==============================] - 86s 334ms/step - loss: 0.5439 - acc: 0.7176 - val_loss: 0.4911 - val_acc: 0.7871\n",
            "Epoch 2/6\n",
            "250/250 [==============================] - 83s 332ms/step - loss: 0.4325 - acc: 0.8017 - val_loss: 0.3955 - val_acc: 0.8220\n",
            "Epoch 3/6\n",
            "250/250 [==============================] - 84s 336ms/step - loss: 0.3943 - acc: 0.8211 - val_loss: 0.3731 - val_acc: 0.8350\n",
            "Epoch 4/6\n",
            "250/250 [==============================] - 83s 332ms/step - loss: 0.3677 - acc: 0.8361 - val_loss: 0.3746 - val_acc: 0.8255\n",
            "Epoch 5/6\n",
            "250/250 [==============================] - 84s 335ms/step - loss: 0.3424 - acc: 0.8494 - val_loss: 0.3437 - val_acc: 0.8519\n",
            "Epoch 6/6\n",
            "250/250 [==============================] - 83s 334ms/step - loss: 0.3285 - acc: 0.8579 - val_loss: 0.3411 - val_acc: 0.8543\n"
          ]
        }
      ]
    },
    {
      "cell_type": "markdown",
      "source": [
        "####b) Évaluer le modèle"
      ],
      "metadata": {
        "id": "8KBXlQcX2EMt"
      }
    },
    {
      "cell_type": "code",
      "source": [
        "evaluate(model, X_test, y_test)"
      ],
      "metadata": {
        "id": "uLUJuY0dB3dr",
        "colab": {
          "base_uri": "https://localhost:8080/"
        },
        "outputId": "b17c3ee9-7d3a-4451-b9d4-8a7f9207d32b"
      },
      "execution_count": null,
      "outputs": [
        {
          "output_type": "stream",
          "name": "stdout",
          "text": [
            "313/313 [==============================] - 11s 35ms/step - loss: 0.3422 - acc: 0.8476\n",
            "Test Score: 0.3422029912471771\n",
            "Test Accuracy: 0.847599983215332\n"
          ]
        }
      ]
    },
    {
      "cell_type": "markdown",
      "source": [
        "####c) Tracer les fonctions de loss et de accuracy pour les training et test sets"
      ],
      "metadata": {
        "id": "RJzLtypV2ctK"
      }
    },
    {
      "cell_type": "code",
      "source": [
        "plotting(history)"
      ],
      "metadata": {
        "id": "XQBQ8hTrNUy1",
        "colab": {
          "base_uri": "https://localhost:8080/",
          "height": 573
        },
        "outputId": "a80ba0e0-5b8f-482b-a9ab-71ee88c80085"
      },
      "execution_count": null,
      "outputs": [
        {
          "output_type": "display_data",
          "data": {
            "text/plain": [
              "<Figure size 432x288 with 1 Axes>"
            ],
            "image/png": "[encoded data removed]"
          },
          "metadata": {
            "needs_background": "light"
          }
        },
        {
          "output_type": "display_data",
          "data": {
            "text/plain": [
              "<Figure size 432x288 with 1 Axes>"
            ],
            "image/png": "[encoded data removed]"
          },
          "metadata": {
            "needs_background": "light"
          }
        }
      ]
    },
    {
      "cell_type": "markdown",
      "source": [
        "###2/ Classification avec un réseau de neurones récurrent (GRU)"
      ],
      "metadata": {
        "id": "zi5k-1rs9-AB"
      }
    },
    {
      "cell_type": "markdown",
      "source": [
        "####a) Créer le modèle"
      ],
      "metadata": {
        "id": "Zfv6HcT611PY"
      }
    },
    {
      "cell_type": "code",
      "source": [
        "model, history = GRU_model(X_train, y_train, 100, embedding_matrix2)"
      ],
      "metadata": {
        "id": "4nPMHbZaBvIv",
        "colab": {
          "base_uri": "https://localhost:8080/"
        },
        "outputId": "a5eb5fc1-72af-442a-cb84-64ca0184d56c"
      },
      "execution_count": null,
      "outputs": [
        {
          "output_type": "stream",
          "name": "stdout",
          "text": [
            "Epoch 1/6\n",
            "250/250 [==============================] - 69s 270ms/step - loss: 0.5260 - acc: 0.7253 - val_loss: 0.4061 - val_acc: 0.8125\n",
            "Epoch 2/6\n",
            "250/250 [==============================] - 66s 265ms/step - loss: 0.3910 - acc: 0.8245 - val_loss: 0.3947 - val_acc: 0.8148\n",
            "Epoch 3/6\n",
            "250/250 [==============================] - 67s 268ms/step - loss: 0.3614 - acc: 0.8395 - val_loss: 0.3529 - val_acc: 0.8406\n",
            "Epoch 4/6\n",
            "250/250 [==============================] - 67s 268ms/step - loss: 0.3357 - acc: 0.8538 - val_loss: 0.3354 - val_acc: 0.8535\n",
            "Epoch 5/6\n",
            "250/250 [==============================] - 67s 267ms/step - loss: 0.3131 - acc: 0.8627 - val_loss: 0.3284 - val_acc: 0.8587\n",
            "Epoch 6/6\n",
            "250/250 [==============================] - 67s 266ms/step - loss: 0.2958 - acc: 0.8747 - val_loss: 0.3229 - val_acc: 0.8594\n"
          ]
        }
      ]
    },
    {
      "cell_type": "markdown",
      "source": [
        "####b) Évaluer le modèle"
      ],
      "metadata": {
        "id": "F-cz6w6h2GFj"
      }
    },
    {
      "cell_type": "code",
      "source": [
        "evaluate(model, X_test, y_test)"
      ],
      "metadata": {
        "id": "Tjvom_kVB4Id",
        "colab": {
          "base_uri": "https://localhost:8080/"
        },
        "outputId": "8a8d48f3-7db2-4d72-ea6d-2bf9de9cdea0"
      },
      "execution_count": null,
      "outputs": [
        {
          "output_type": "stream",
          "name": "stdout",
          "text": [
            "313/313 [==============================] - 8s 26ms/step - loss: 0.3121 - acc: 0.8643\n",
            "Test Score: 0.3121294379234314\n",
            "Test Accuracy: 0.864300012588501\n"
          ]
        }
      ]
    },
    {
      "cell_type": "markdown",
      "source": [
        "####c) Tracer les fonctions de loss et de accuracy pour les training et test sets"
      ],
      "metadata": {
        "id": "M77kU3qr2fBY"
      }
    },
    {
      "cell_type": "code",
      "source": [
        "plotting(history)"
      ],
      "metadata": {
        "id": "_rUn2I5wCJin",
        "colab": {
          "base_uri": "https://localhost:8080/",
          "height": 573
        },
        "outputId": "36e5160c-a8d5-47e0-9c9d-6af35cfbcd29"
      },
      "execution_count": null,
      "outputs": [
        {
          "output_type": "display_data",
          "data": {
            "text/plain": [
              "<Figure size 432x288 with 1 Axes>"
            ],
            "image/png": "[encoded data removed]"
          },
          "metadata": {
            "needs_background": "light"
          }
        },
        {
          "output_type": "display_data",
          "data": {
            "text/plain": [
              "<Figure size 432x288 with 1 Axes>"
            ],
            "image/png": "[encoded data removed]"
          },
          "metadata": {
            "needs_background": "light"
          }
        }
      ]
    },
    {
      "cell_type": "markdown",
      "source": [
        "###3/ Classification avec un réseau RNN+CNN"
      ],
      "metadata": {
        "id": "9ehEJbVh-QMo"
      }
    },
    {
      "cell_type": "markdown",
      "source": [
        "####a) Créer le modèle"
      ],
      "metadata": {
        "id": "BZTlphhf13ln"
      }
    },
    {
      "cell_type": "code",
      "source": [
        "model, history = RNNCNN_model(X_train, y_train, 100, embedding_matrix2)"
      ],
      "metadata": {
        "id": "lmOZdMqtCACR",
        "colab": {
          "base_uri": "https://localhost:8080/"
        },
        "outputId": "4aa320ae-c067-410e-aa67-e6b3e44e63d9"
      },
      "execution_count": null,
      "outputs": [
        {
          "output_type": "stream",
          "name": "stdout",
          "text": [
            "Epoch 1/6\n",
            "250/250 [==============================] - 103s 404ms/step - loss: 0.4802 - accuracy: 0.7595 - val_loss: 0.3481 - val_accuracy: 0.8468\n",
            "Epoch 2/6\n",
            "250/250 [==============================] - 100s 400ms/step - loss: 0.3192 - accuracy: 0.8633 - val_loss: 0.3129 - val_accuracy: 0.8659\n",
            "Epoch 3/6\n",
            "250/250 [==============================] - 100s 400ms/step - loss: 0.2663 - accuracy: 0.8906 - val_loss: 0.3239 - val_accuracy: 0.8576\n",
            "Epoch 4/6\n",
            "250/250 [==============================] - 100s 400ms/step - loss: 0.2246 - accuracy: 0.9112 - val_loss: 0.3223 - val_accuracy: 0.8656\n",
            "Epoch 5/6\n",
            "250/250 [==============================] - 99s 396ms/step - loss: 0.1838 - accuracy: 0.9304 - val_loss: 0.3328 - val_accuracy: 0.8618\n",
            "Epoch 6/6\n",
            "250/250 [==============================] - 99s 396ms/step - loss: 0.1414 - accuracy: 0.9492 - val_loss: 0.3937 - val_accuracy: 0.8564\n"
          ]
        }
      ]
    },
    {
      "cell_type": "markdown",
      "source": [
        "####b) Évaluer le modèle"
      ],
      "metadata": {
        "id": "Od-bmhJN2ICC"
      }
    },
    {
      "cell_type": "code",
      "source": [
        "evaluate(model, X_test, y_test)"
      ],
      "metadata": {
        "id": "xYdocz8UB8F3",
        "colab": {
          "base_uri": "https://localhost:8080/"
        },
        "outputId": "4093401b-1f9a-4e79-a31f-ceb878142984"
      },
      "execution_count": null,
      "outputs": [
        {
          "output_type": "stream",
          "name": "stdout",
          "text": [
            "313/313 [==============================] - 9s 29ms/step - loss: 0.3733 - accuracy: 0.8597\n",
            "Test Score: 0.37326759099960327\n",
            "Test Accuracy: 0.8597000241279602\n"
          ]
        }
      ]
    },
    {
      "cell_type": "markdown",
      "source": [
        "##V/ Tableau récapitulatif :"
      ],
      "metadata": {
        "id": "7v33QYns3lfk"
      }
    },
    {
      "cell_type": "markdown",
      "source": [
        "![Annotation 2022-05-08 005521.jpg](data:image/jpeg;base64,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)"
      ],
      "metadata": {
        "id": "QlrR7wiR86vw"
      }
    }
  ]
}